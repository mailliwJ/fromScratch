{
 "cells": [
  {
   "cell_type": "code",
   "execution_count": 1,
   "metadata": {},
   "outputs": [],
   "source": [
    "import numpy as np\n",
    "import pandas as pd\n",
    "\n",
    "import matplotlib.pyplot as plt\n",
    "import seaborn as sns\n",
    "\n",
    "%matplotlib inline\n",
    "\n",
    "import random\n",
    "from pprint import pprint"
   ]
  },
  {
   "cell_type": "code",
   "execution_count": 2,
   "metadata": {},
   "outputs": [],
   "source": [
    "from sklearn.datasets import load_iris\n",
    "iris = load_iris()\n",
    "df = pd.DataFrame(iris.data, columns=iris.feature_names)\n",
    "df['target'] = iris.target\n",
    "target_map = {i: name for i, name in enumerate(iris.target_names)}\n",
    "df['target'] = df['target'].map(target_map)"
   ]
  },
  {
   "cell_type": "code",
   "execution_count": 47,
   "metadata": {},
   "outputs": [
    {
     "name": "stdout",
     "output_type": "stream",
     "text": [
      "<class 'pandas.core.frame.DataFrame'>\n",
      "RangeIndex: 150 entries, 0 to 149\n",
      "Data columns (total 5 columns):\n",
      " #   Column        Non-Null Count  Dtype  \n",
      "---  ------        --------------  -----  \n",
      " 0   sepal_length  150 non-null    float64\n",
      " 1   sepal_width   150 non-null    float64\n",
      " 2   petal_length  150 non-null    float64\n",
      " 3   petal_width   150 non-null    float64\n",
      " 4   target        150 non-null    object \n",
      "dtypes: float64(4), object(1)\n",
      "memory usage: 6.0+ KB\n"
     ]
    }
   ],
   "source": [
    "df.info()"
   ]
  },
  {
   "cell_type": "code",
   "execution_count": 46,
   "metadata": {},
   "outputs": [],
   "source": [
    "df.rename(columns={'sepal length (cm)':'sepal_length',\n",
    "                   'sepal width (cm)':'sepal_width',\n",
    "                   'petal length (cm)':'petal_length',\n",
    "                   'petal width (cm)':'petal_width'},\n",
    "                   inplace=True)"
   ]
  },
  {
   "cell_type": "markdown",
   "metadata": {},
   "source": [
    "---\n",
    "## Train Test Split function"
   ]
  },
  {
   "cell_type": "code",
   "execution_count": 3,
   "metadata": {},
   "outputs": [],
   "source": [
    "def train_test_split(df, test_size, seed=None):\n",
    "    seed = random.seed(seed)\n",
    "    \n",
    "    if isinstance(test_size, float):\n",
    "        test_size = round(test_size * len(df))\n",
    "\n",
    "    idxs = df.index.tolist()\n",
    "    test_idxs = random.sample(population=idxs, k=test_size)\n",
    "    test_df = df.loc[test_idxs]\n",
    "    train_df = df.drop(test_idxs)\n",
    "\n",
    "    return train_df, test_df"
   ]
  },
  {
   "cell_type": "markdown",
   "metadata": {},
   "source": [
    "---\n",
    "## Helper Functions"
   ]
  },
  {
   "cell_type": "markdown",
   "metadata": {},
   "source": [
    "### Is Data Pure?"
   ]
  },
  {
   "cell_type": "code",
   "execution_count": 4,
   "metadata": {},
   "outputs": [],
   "source": [
    "def check_purity(data):\n",
    "    if isinstance(data, pd.DataFrame):\n",
    "        data = data.values\n",
    "    target_col = data[:,-1]\n",
    "    unique_classes = np.unique(target_col)\n",
    "    if len(unique_classes) == 1:\n",
    "        return True\n",
    "    else:\n",
    "        return False"
   ]
  },
  {
   "cell_type": "markdown",
   "metadata": {},
   "source": [
    "### Classify"
   ]
  },
  {
   "cell_type": "code",
   "execution_count": 5,
   "metadata": {},
   "outputs": [],
   "source": [
    "def classify_data(data):\n",
    "    if isinstance(data, pd.DataFrame):\n",
    "        data = data.values\n",
    "    target_col = data[:,-1]\n",
    "    unique_classes, class_counts = np.unique(target_col, return_counts=True)\n",
    "    index = class_counts.argmax()\n",
    "    classification = unique_classes[index]\n",
    "    return classification"
   ]
  },
  {
   "cell_type": "markdown",
   "metadata": {},
   "source": [
    "### Potential Splits"
   ]
  },
  {
   "cell_type": "code",
   "execution_count": 122,
   "metadata": {},
   "outputs": [],
   "source": [
    "def get_potential_splts(data):\n",
    "    \n",
    "    if isinstance(data, pd.DataFrame):\n",
    "        data = data.values\n",
    "        \n",
    "    potential_splits = {}\n",
    "    n_cols = data.shape[1]\n",
    "\n",
    "    for col_idx in range(n_cols -1):\n",
    "        \n",
    "        potential_splits[col_idx] = []\n",
    "        vals = data[:, col_idx]\n",
    "        unique_vals = np.unique(vals)\n",
    "\n",
    "        potential_splits[col_idx] = unique_vals\n",
    "\n",
    "    return potential_splits"
   ]
  },
  {
   "cell_type": "markdown",
   "metadata": {},
   "source": [
    "### Split data"
   ]
  },
  {
   "cell_type": "code",
   "execution_count": 105,
   "metadata": {},
   "outputs": [],
   "source": [
    "def split_data(data, split_col, split_val):\n",
    "\n",
    "    if isinstance(data, pd.DataFrame):\n",
    "        data = data.values\n",
    "\n",
    "    split_col_vals = data[:, split_col]\n",
    "\n",
    "    feature_type = FEATURE_TYPES[split_col]\n",
    "    \n",
    "    if feature_type == 'continuous':\n",
    "        data_below = data[split_col_vals <= split_val]\n",
    "        data_above = data[split_col_vals > split_val]\n",
    "    else:\n",
    "        data_below = data[split_col_vals == split_val]\n",
    "        data_above = data[split_col_vals != split_val]\n",
    "\n",
    "    return data_below, data_above"
   ]
  },
  {
   "cell_type": "markdown",
   "metadata": {},
   "source": [
    "### Lowest Overall Entropy"
   ]
  },
  {
   "cell_type": "code",
   "execution_count": 8,
   "metadata": {},
   "outputs": [],
   "source": [
    "def calculate_entropy(data):\n",
    "\n",
    "    if isinstance(data, pd.DataFrame):\n",
    "        data = data.values\n",
    "\n",
    "    target_col = data[:,-1]\n",
    "    counts = np.unique(target_col, return_counts=True)[1]\n",
    "\n",
    "    probabilities = counts/counts.sum()\n",
    "    entropy = sum(probabilities * -np.log2(probabilities))\n",
    "\n",
    "    return entropy"
   ]
  },
  {
   "cell_type": "code",
   "execution_count": 9,
   "metadata": {},
   "outputs": [],
   "source": [
    "def calculate_overall_entropy(data_below, data_above):\n",
    "\n",
    "    n_data = len(data_below) + len(data_above)\n",
    "    \n",
    "    p_data_below = len(data_below) / n_data\n",
    "    p_data_above = len(data_above) / n_data\n",
    "\n",
    "    overall_entropy = (p_data_below * calculate_entropy(data_below) +\n",
    "                       p_data_above * calculate_entropy(data_above))\n",
    "    \n",
    "    return overall_entropy"
   ]
  },
  {
   "cell_type": "code",
   "execution_count": 125,
   "metadata": {},
   "outputs": [],
   "source": [
    "def determine_best_split(data, potential_splits):\n",
    "\n",
    "    if isinstance(data, pd.DataFrame):\n",
    "        data = data.values\n",
    "\n",
    "    overall_entropy = 99999\n",
    "\n",
    "    for col_idx in potential_splits:\n",
    "        for val in potential_splits[col_idx]:\n",
    "            data_below, data_above = split_data(data, split_col=col_idx, split_val=val)\n",
    "            current_overall_entropy = calculate_overall_entropy(data_below, data_above)\n",
    "\n",
    "            if current_overall_entropy <= overall_entropy:\n",
    "                overall_entropy = current_overall_entropy\n",
    "                best_split_col = col_idx\n",
    "                best_split_val = val\n",
    "\n",
    "    return best_split_col, best_split_val"
   ]
  },
  {
   "cell_type": "code",
   "execution_count": 109,
   "metadata": {},
   "outputs": [],
   "source": [
    "def get_feature_type(df):\n",
    "\n",
    "    feature_types = []\n",
    "    threshold = 15\n",
    "\n",
    "    for col in df.columns:\n",
    "        unique_vals = df[col].unique()\n",
    "        example_val = unique_vals[0]\n",
    "        if isinstance(example_val, str) or (len(unique_vals) <= threshold):\n",
    "            feature_types.append('categorical')\n",
    "        else:\n",
    "            feature_types.append('continuous')\n",
    "\n",
    "    return feature_types"
   ]
  },
  {
   "cell_type": "markdown",
   "metadata": {},
   "source": [
    "---\n",
    "## Decision Tree Algorithm"
   ]
  },
  {
   "cell_type": "markdown",
   "metadata": {},
   "source": [
    "#### Representation of Decision Tree\n",
    "```Python\n",
    "sub_tree = {\"question\": [\"yes_answer\", \n",
    "                         \"no_answer\"]}\n",
    "\n",
    "example_tree = {\"petal_width <= 0.8\": [\"Iris-setosa\", \n",
    "                                      {\"petal_width <= 1.65\": [{\"petal_length <= 4.9\": [\"Iris-versicolor\", \n",
    "                                                                                        \"Iris-virginica\"]}, \n",
    "                                                                \"Iris-virginica\"]}]}\n",
    "\n",
    "```"
   ]
  },
  {
   "cell_type": "code",
   "execution_count": 126,
   "metadata": {},
   "outputs": [],
   "source": [
    "def decision_tree_classifier(df, counter=0, min_samples=2, max_depth=5):\n",
    "\n",
    "    # Data preparation\n",
    "    if counter == 0:\n",
    "        global COLUMN_NAMES, FEATURE_TYPES\n",
    "        COLUMN_NAMES = df.columns\n",
    "        FEATURE_TYPES = get_feature_type(df)\n",
    "        data=df.values\n",
    "    else:\n",
    "        data = df\n",
    "\n",
    "    # Base cases\n",
    "    if (check_purity(data)) or (len(data) < min_samples) or (counter == max_depth):\n",
    "        classification = classify_data(data)\n",
    "        return classification\n",
    "    \n",
    "    # Recursion\n",
    "    else:\n",
    "        counter += 1\n",
    "\n",
    "        # Helper functions\n",
    "        potential_splits = get_potential_splts(data)\n",
    "        split_col, split_val = determine_best_split(data, potential_splits)\n",
    "        data_below, data_above = split_data(data, split_col, split_val)\n",
    "\n",
    "        # Check for empty potential splits lists\n",
    "        if len(data_below) == 0 or len(data_above) == 0:\n",
    "            classification = classify_data(data)\n",
    "            return classification\n",
    "\n",
    "        # Instatiate sub tree\n",
    "        feature_name = COLUMN_NAMES[split_col]\n",
    "        feature_type = FEATURE_TYPES[split_col]\n",
    "        \n",
    "        if feature_type == 'continnuous':\n",
    "            question = f'{feature_name} <= {split_val}'\n",
    "        else:\n",
    "            question = f'{feature_name} = {split_val}'\n",
    "\n",
    "        sub_tree = {question: []}            \n",
    "\n",
    "        # Find answers using recursion\n",
    "        yes_answer = decision_tree_classifier(data_below, counter, min_samples, max_depth)\n",
    "        no_answer = decision_tree_classifier(data_above, counter, min_samples, max_depth)\n",
    "\n",
    "        # Check final answer and append question answers\n",
    "        if yes_answer == no_answer:\n",
    "            sub_tree = yes_answer\n",
    "        else:\n",
    "            sub_tree[question].append(yes_answer)\n",
    "            sub_tree[question].append(no_answer)\n",
    "\n",
    "        return sub_tree"
   ]
  },
  {
   "cell_type": "code",
   "execution_count": 49,
   "metadata": {},
   "outputs": [],
   "source": [
    "train, test = train_test_split(df, test_size=0.2, seed=42)"
   ]
  },
  {
   "cell_type": "code",
   "execution_count": 74,
   "metadata": {},
   "outputs": [],
   "source": [
    "tree = decision_tree_classifier(train, max_depth=7)"
   ]
  },
  {
   "cell_type": "code",
   "execution_count": 71,
   "metadata": {},
   "outputs": [
    {
     "name": "stdout",
     "output_type": "stream",
     "text": [
      "{'petal_width <= 0.7': ['setosa',\n",
      "                        {'petal_width <= 1.75': [{'petal_length <= 4.95': [{'petal_width <= 1.65': ['versicolor',\n",
      "                                                                                                    'virginica']},\n",
      "                                                                           {'petal_width <= 1.55': ['virginica',\n",
      "                                                                                                    'versicolor']}]},\n",
      "                                                 'virginica']}]}\n"
     ]
    }
   ],
   "source": [
    "pprint(tree)"
   ]
  },
  {
   "cell_type": "markdown",
   "metadata": {},
   "source": [
    "---\n",
    "## Classification"
   ]
  },
  {
   "cell_type": "code",
   "execution_count": 52,
   "metadata": {},
   "outputs": [
    {
     "data": {
      "text/plain": [
       "sepal_length       5.2\n",
       "sepal_width        3.4\n",
       "petal_length       1.4\n",
       "petal_width        0.2\n",
       "target          setosa\n",
       "Name: 28, dtype: object"
      ]
     },
     "execution_count": 52,
     "metadata": {},
     "output_type": "execute_result"
    }
   ],
   "source": [
    "example = test.iloc[0]\n",
    "example"
   ]
  },
  {
   "cell_type": "code",
   "execution_count": 116,
   "metadata": {},
   "outputs": [],
   "source": [
    "def classify_example(example, tree):\n",
    "\n",
    "    question = list(tree.keys())[0]\n",
    "    feature_name, operator, value = question.split()\n",
    "\n",
    "    # Ask question\n",
    "    if operator == '<=':\n",
    "        if example[feature_name] <= float(value):\n",
    "            answer = tree[question][0]\n",
    "        else:\n",
    "            answer = tree[question][1]\n",
    "    \n",
    "    else:\n",
    "        if str(example[feature_name]) == value:\n",
    "            answer = tree[question][0]\n",
    "        else:\n",
    "            answer = tree[question][1]\n",
    "\n",
    "    # Base case\n",
    "    if not isinstance(answer, dict):\n",
    "        return answer\n",
    "    # Recursion\n",
    "    else:\n",
    "        residual_tree = answer\n",
    "        return classify_example(example, residual_tree)"
   ]
  },
  {
   "cell_type": "code",
   "execution_count": 55,
   "metadata": {},
   "outputs": [
    {
     "data": {
      "text/plain": [
       "'setosa'"
      ]
     },
     "execution_count": 55,
     "metadata": {},
     "output_type": "execute_result"
    }
   ],
   "source": [
    "classify_example(example, tree)"
   ]
  },
  {
   "cell_type": "markdown",
   "metadata": {},
   "source": [
    "---\n",
    "## Accuracy"
   ]
  },
  {
   "cell_type": "code",
   "execution_count": 56,
   "metadata": {},
   "outputs": [],
   "source": [
    "def calculate_accuracy(df, tree):\n",
    "\n",
    "    df['classification'] = df.apply(classify_example, axis=1, args=(tree,))\n",
    "    df['classification_correct'] = df.classification == df.target\n",
    "\n",
    "    accuracy = df.classification_correct.mean()\n",
    "\n",
    "    return accuracy"
   ]
  },
  {
   "cell_type": "code",
   "execution_count": 57,
   "metadata": {},
   "outputs": [
    {
     "data": {
      "text/plain": [
       "0.9333333333333333"
      ]
     },
     "execution_count": 57,
     "metadata": {},
     "output_type": "execute_result"
    }
   ],
   "source": [
    "calculate_accuracy(test, tree)"
   ]
  },
  {
   "cell_type": "code",
   "execution_count": 66,
   "metadata": {},
   "outputs": [
    {
     "data": {
      "text/html": [
       "<div>\n",
       "<style scoped>\n",
       "    .dataframe tbody tr th:only-of-type {\n",
       "        vertical-align: middle;\n",
       "    }\n",
       "\n",
       "    .dataframe tbody tr th {\n",
       "        vertical-align: top;\n",
       "    }\n",
       "\n",
       "    .dataframe thead th {\n",
       "        text-align: right;\n",
       "    }\n",
       "</style>\n",
       "<table border=\"1\" class=\"dataframe\">\n",
       "  <thead>\n",
       "    <tr style=\"text-align: right;\">\n",
       "      <th></th>\n",
       "      <th>sepal_length</th>\n",
       "      <th>sepal_width</th>\n",
       "      <th>petal_length</th>\n",
       "      <th>petal_width</th>\n",
       "      <th>target</th>\n",
       "      <th>classification</th>\n",
       "      <th>classification_correct</th>\n",
       "    </tr>\n",
       "  </thead>\n",
       "  <tbody>\n",
       "    <tr>\n",
       "      <th>70</th>\n",
       "      <td>5.9</td>\n",
       "      <td>3.2</td>\n",
       "      <td>4.8</td>\n",
       "      <td>1.8</td>\n",
       "      <td>versicolor</td>\n",
       "      <td>virginica</td>\n",
       "      <td>False</td>\n",
       "    </tr>\n",
       "    <tr>\n",
       "      <th>129</th>\n",
       "      <td>7.2</td>\n",
       "      <td>3.0</td>\n",
       "      <td>5.8</td>\n",
       "      <td>1.6</td>\n",
       "      <td>virginica</td>\n",
       "      <td>versicolor</td>\n",
       "      <td>False</td>\n",
       "    </tr>\n",
       "  </tbody>\n",
       "</table>\n",
       "</div>"
      ],
      "text/plain": [
       "     sepal_length  sepal_width  petal_length  petal_width      target  \\\n",
       "70            5.9          3.2           4.8          1.8  versicolor   \n",
       "129           7.2          3.0           5.8          1.6   virginica   \n",
       "\n",
       "    classification  classification_correct  \n",
       "70       virginica                   False  \n",
       "129     versicolor                   False  "
      ]
     },
     "execution_count": 66,
     "metadata": {},
     "output_type": "execute_result"
    }
   ],
   "source": [
    "test[test['classification_correct']==False]"
   ]
  },
  {
   "cell_type": "code",
   "execution_count": 68,
   "metadata": {},
   "outputs": [
    {
     "data": {
      "text/plain": [
       "sepal_length                     5.9\n",
       "sepal_width                      3.2\n",
       "petal_length                     4.8\n",
       "petal_width                      1.8\n",
       "target                    versicolor\n",
       "classification             virginica\n",
       "classification_correct         False\n",
       "Name: 70, dtype: object"
      ]
     },
     "execution_count": 68,
     "metadata": {},
     "output_type": "execute_result"
    }
   ],
   "source": [
    "test.loc[70]"
   ]
  },
  {
   "cell_type": "code",
   "execution_count": 69,
   "metadata": {},
   "outputs": [
    {
     "name": "stdout",
     "output_type": "stream",
     "text": [
      "{'petal_width <= 0.7': ['setosa',\n",
      "                        {'petal_width <= 1.75': [{'petal_length <= 4.95': [{'petal_width <= 1.65': ['versicolor',\n",
      "                                                                                                    'virginica']},\n",
      "                                                                           {'petal_width <= 1.55': ['virginica',\n",
      "                                                                                                    'versicolor']}]},\n",
      "                                                 'virginica']}]}\n"
     ]
    }
   ],
   "source": [
    "pprint(tree)"
   ]
  },
  {
   "cell_type": "code",
   "execution_count": 72,
   "metadata": {},
   "outputs": [
    {
     "name": "stdout",
     "output_type": "stream",
     "text": [
      "{'petal_width <= 0.8': ['setosa',\n",
      "                        {'petal_width <= 1.75': [{'petal_length <= 4.95': ['versicolor',\n",
      "                                                                           'virginica']},\n",
      "                                                 'virginica']}]}\n",
      "0.9666666666666667\n"
     ]
    }
   ],
   "source": [
    "train, test = train_test_split(df, test_size=0.2, seed=13)\n",
    "tree = decision_tree_classifier(train, max_depth=3)\n",
    "accuracy = calculate_accuracy(test, tree)\n",
    "\n",
    "pprint(tree)\n",
    "print(accuracy)"
   ]
  },
  {
   "cell_type": "markdown",
   "metadata": {},
   "source": [
    "---\n",
    "## Handling Categoric Features"
   ]
  },
  {
   "cell_type": "markdown",
   "metadata": {},
   "source": [
    "#### Titanic Dataset"
   ]
  },
  {
   "cell_type": "code",
   "execution_count": 99,
   "metadata": {},
   "outputs": [],
   "source": [
    "# Load dataset from seaborn datasets\n",
    "df = sns.load_dataset('titanic')"
   ]
  },
  {
   "cell_type": "code",
   "execution_count": 100,
   "metadata": {},
   "outputs": [
    {
     "name": "stdout",
     "output_type": "stream",
     "text": [
      "<class 'pandas.core.frame.DataFrame'>\n",
      "RangeIndex: 891 entries, 0 to 890\n",
      "Data columns (total 15 columns):\n",
      " #   Column       Non-Null Count  Dtype   \n",
      "---  ------       --------------  -----   \n",
      " 0   survived     891 non-null    int64   \n",
      " 1   pclass       891 non-null    int64   \n",
      " 2   sex          891 non-null    object  \n",
      " 3   age          714 non-null    float64 \n",
      " 4   sibsp        891 non-null    int64   \n",
      " 5   parch        891 non-null    int64   \n",
      " 6   fare         891 non-null    float64 \n",
      " 7   embarked     889 non-null    object  \n",
      " 8   class        891 non-null    category\n",
      " 9   who          891 non-null    object  \n",
      " 10  adult_male   891 non-null    bool    \n",
      " 11  deck         203 non-null    category\n",
      " 12  embark_town  889 non-null    object  \n",
      " 13  alive        891 non-null    object  \n",
      " 14  alone        891 non-null    bool    \n",
      "dtypes: bool(2), category(2), float64(2), int64(4), object(5)\n",
      "memory usage: 80.7+ KB\n"
     ]
    }
   ],
   "source": [
    "df.info()"
   ]
  },
  {
   "cell_type": "code",
   "execution_count": 89,
   "metadata": {},
   "outputs": [
    {
     "data": {
      "text/html": [
       "<div>\n",
       "<style scoped>\n",
       "    .dataframe tbody tr th:only-of-type {\n",
       "        vertical-align: middle;\n",
       "    }\n",
       "\n",
       "    .dataframe tbody tr th {\n",
       "        vertical-align: top;\n",
       "    }\n",
       "\n",
       "    .dataframe thead th {\n",
       "        text-align: right;\n",
       "    }\n",
       "</style>\n",
       "<table border=\"1\" class=\"dataframe\">\n",
       "  <thead>\n",
       "    <tr style=\"text-align: right;\">\n",
       "      <th></th>\n",
       "      <th>survived</th>\n",
       "      <th>pclass</th>\n",
       "      <th>sex</th>\n",
       "      <th>age</th>\n",
       "      <th>sibsp</th>\n",
       "      <th>parch</th>\n",
       "      <th>fare</th>\n",
       "      <th>embarked</th>\n",
       "      <th>class</th>\n",
       "      <th>who</th>\n",
       "      <th>adult_male</th>\n",
       "      <th>deck</th>\n",
       "      <th>embark_town</th>\n",
       "      <th>alive</th>\n",
       "      <th>alone</th>\n",
       "    </tr>\n",
       "  </thead>\n",
       "  <tbody>\n",
       "    <tr>\n",
       "      <th>0</th>\n",
       "      <td>0</td>\n",
       "      <td>3</td>\n",
       "      <td>male</td>\n",
       "      <td>22.0</td>\n",
       "      <td>1</td>\n",
       "      <td>0</td>\n",
       "      <td>7.2500</td>\n",
       "      <td>S</td>\n",
       "      <td>Third</td>\n",
       "      <td>man</td>\n",
       "      <td>True</td>\n",
       "      <td>NaN</td>\n",
       "      <td>Southampton</td>\n",
       "      <td>no</td>\n",
       "      <td>False</td>\n",
       "    </tr>\n",
       "    <tr>\n",
       "      <th>1</th>\n",
       "      <td>1</td>\n",
       "      <td>1</td>\n",
       "      <td>female</td>\n",
       "      <td>38.0</td>\n",
       "      <td>1</td>\n",
       "      <td>0</td>\n",
       "      <td>71.2833</td>\n",
       "      <td>C</td>\n",
       "      <td>First</td>\n",
       "      <td>woman</td>\n",
       "      <td>False</td>\n",
       "      <td>C</td>\n",
       "      <td>Cherbourg</td>\n",
       "      <td>yes</td>\n",
       "      <td>False</td>\n",
       "    </tr>\n",
       "    <tr>\n",
       "      <th>2</th>\n",
       "      <td>1</td>\n",
       "      <td>3</td>\n",
       "      <td>female</td>\n",
       "      <td>26.0</td>\n",
       "      <td>0</td>\n",
       "      <td>0</td>\n",
       "      <td>7.9250</td>\n",
       "      <td>S</td>\n",
       "      <td>Third</td>\n",
       "      <td>woman</td>\n",
       "      <td>False</td>\n",
       "      <td>NaN</td>\n",
       "      <td>Southampton</td>\n",
       "      <td>yes</td>\n",
       "      <td>True</td>\n",
       "    </tr>\n",
       "    <tr>\n",
       "      <th>3</th>\n",
       "      <td>1</td>\n",
       "      <td>1</td>\n",
       "      <td>female</td>\n",
       "      <td>35.0</td>\n",
       "      <td>1</td>\n",
       "      <td>0</td>\n",
       "      <td>53.1000</td>\n",
       "      <td>S</td>\n",
       "      <td>First</td>\n",
       "      <td>woman</td>\n",
       "      <td>False</td>\n",
       "      <td>C</td>\n",
       "      <td>Southampton</td>\n",
       "      <td>yes</td>\n",
       "      <td>False</td>\n",
       "    </tr>\n",
       "    <tr>\n",
       "      <th>4</th>\n",
       "      <td>0</td>\n",
       "      <td>3</td>\n",
       "      <td>male</td>\n",
       "      <td>35.0</td>\n",
       "      <td>0</td>\n",
       "      <td>0</td>\n",
       "      <td>8.0500</td>\n",
       "      <td>S</td>\n",
       "      <td>Third</td>\n",
       "      <td>man</td>\n",
       "      <td>True</td>\n",
       "      <td>NaN</td>\n",
       "      <td>Southampton</td>\n",
       "      <td>no</td>\n",
       "      <td>True</td>\n",
       "    </tr>\n",
       "  </tbody>\n",
       "</table>\n",
       "</div>"
      ],
      "text/plain": [
       "   survived  pclass     sex   age  sibsp  parch     fare embarked  class  \\\n",
       "0         0       3    male  22.0      1      0   7.2500        S  Third   \n",
       "1         1       1  female  38.0      1      0  71.2833        C  First   \n",
       "2         1       3  female  26.0      0      0   7.9250        S  Third   \n",
       "3         1       1  female  35.0      1      0  53.1000        S  First   \n",
       "4         0       3    male  35.0      0      0   8.0500        S  Third   \n",
       "\n",
       "     who  adult_male deck  embark_town alive  alone  \n",
       "0    man        True  NaN  Southampton    no  False  \n",
       "1  woman       False    C    Cherbourg   yes  False  \n",
       "2  woman       False  NaN  Southampton   yes   True  \n",
       "3  woman       False    C  Southampton   yes  False  \n",
       "4    man        True  NaN  Southampton    no   True  "
      ]
     },
     "execution_count": 89,
     "metadata": {},
     "output_type": "execute_result"
    }
   ],
   "source": [
    "df.head()"
   ]
  },
  {
   "cell_type": "code",
   "execution_count": 101,
   "metadata": {},
   "outputs": [],
   "source": [
    "# Load dataset from seaborn datasets\n",
    "df = sns.load_dataset('titanic')\n",
    "\n",
    "# Reorganise to the dataset fits requirements of decision tree functions\n",
    "\n",
    "# 1. must have target column called target as last column\n",
    "df['target'] = df.survived\n",
    "\n",
    "# Drop some unecessary columns for this example\n",
    "df.drop(['survived','alive','deck','adult_male','class','embarked'], axis=1, inplace=True)\n",
    "\n",
    "# 2. No missing values\n",
    "median_age = df.age.median()\n",
    "mode_embark = df.embark_town.mode()[0]\n",
    "\n",
    "df.fillna({'age':median_age,\n",
    "           'embark_town':mode_embark},\n",
    "           inplace=True)"
   ]
  },
  {
   "cell_type": "code",
   "execution_count": 102,
   "metadata": {},
   "outputs": [
    {
     "name": "stdout",
     "output_type": "stream",
     "text": [
      "<class 'pandas.core.frame.DataFrame'>\n",
      "RangeIndex: 891 entries, 0 to 890\n",
      "Data columns (total 10 columns):\n",
      " #   Column       Non-Null Count  Dtype  \n",
      "---  ------       --------------  -----  \n",
      " 0   pclass       891 non-null    int64  \n",
      " 1   sex          891 non-null    object \n",
      " 2   age          891 non-null    float64\n",
      " 3   sibsp        891 non-null    int64  \n",
      " 4   parch        891 non-null    int64  \n",
      " 5   fare         891 non-null    float64\n",
      " 6   who          891 non-null    object \n",
      " 7   embark_town  891 non-null    object \n",
      " 8   alone        891 non-null    bool   \n",
      " 9   target       891 non-null    int64  \n",
      "dtypes: bool(1), float64(2), int64(4), object(3)\n",
      "memory usage: 63.6+ KB\n"
     ]
    }
   ],
   "source": [
    "df.info()"
   ]
  },
  {
   "cell_type": "code",
   "execution_count": 127,
   "metadata": {},
   "outputs": [
    {
     "name": "stdout",
     "output_type": "stream",
     "text": [
      "{'who = man': [{'pclass = 1': [{'fare = 26.0': [0,\n",
      "                                                {'fare = 30.5': [{'age = 52.0': [{'embark_town = Southampton': [{'age = 29.0': [{'age = 28.0': [1,\n",
      "                                                                                                                                                0]},\n",
      "                                                                                                                                1]},\n",
      "                                                                                                                {'fare = 29.7': [{'fare = 26.55': [1,\n",
      "                                                                                                                                                   {'fare = 27.7208': [0,\n",
      "                                                                                                                                                                       {'alone = True': [1,\n",
      "                                                                                                                                                                                         0]}]}]},\n",
      "                                                                                                                                 1]}]},\n",
      "                                                                                 {'fare = 26.55': [0,\n",
      "                                                                                                   1]}]},\n",
      "                                                                 {'fare = 35.0': [0,\n",
      "                                                                                  {'embark_town = Cherbourg': [{'age = 56.0': [{'fare = 91.0792': [{'sibsp = 1': [1,\n",
      "                                                                                                                                                                  {'fare = 76.7292': [1,\n",
      "                                                                                                                                                                                      0]}]},\n",
      "                                                                                                                                                   {'fare = 247.5208': [{'age = 17.0': [1,\n",
      "                                                                                                                                                                                        0]},\n",
      "                                                                                                                                                                        1]}]},\n",
      "                                                                                                                               0]},\n",
      "                                                                                                               {'fare = 35.5': [{'age = 28.0': [1,\n",
      "                                                                                                                                                0]},\n",
      "                                                                                                                                {'sibsp = 0': [0,\n",
      "                                                                                                                                               {'fare = 52.5542': [{'age = 31.0': [0,\n",
      "                                                                                                                                                                                   1]},\n",
      "                                                                                                                                                                   0]}]}]}]}]}]}]},\n",
      "                               {'age = 32.0': [{'age = 30.5': [{'embark_town = Cherbourg': [{'parch = 1': [{'fare = 7.2292': [0,\n",
      "                                                                                                                              1]},\n",
      "                                                                                                           {'age = 22.0': [1,\n",
      "                                                                                                                           {'fare = 7.225': [0,\n",
      "                                                                                                                                             {'alone = True': [{'fare = 15.0458': [0,\n",
      "                                                                                                                                                                                   1]},\n",
      "                                                                                                                                                               0]}]}]}]},\n",
      "                                                                                            {'parch = 0': [{'fare = 22.525': [0,\n",
      "                                                                                                                              {'age = 25.0': [0,\n",
      "                                                                                                                                              {'fare = 23.25': [1,\n",
      "                                                                                                                                                                {'age = 26.0': [1,\n",
      "                                                                                                                                                                                0]}]}]}]},\n",
      "                                                                                                           0]}]},\n",
      "                                                               {'fare = 7.8958': [0,\n",
      "                                                                                  {'fare = 26.0': [{'fare = 8.05': [{'fare = 7.925': [{'age = 31.0': [1,\n",
      "                                                                                                                                                      0]},\n",
      "                                                                                                                                      1]},\n",
      "                                                                                                                    {'fare = 10.5': [0,\n",
      "                                                                                                                                     {'pclass = 3': [0,\n",
      "                                                                                                                                                     1]}]}]},\n",
      "                                                                                                   0]}]}]},\n",
      "                                               {'pclass = 3': [0,\n",
      "                                                               {'fare = 13.0': [{'age = 39.0': [0,\n",
      "                                                                                                {'age = 62.0': [{'fare = 10.5': [1,\n",
      "                                                                                                                                 0]},\n",
      "                                                                                                                0]}]},\n",
      "                                                                                0]}]}]}]},\n",
      "               {'pclass = 3': [{'fare = 23.25': [{'age = 1.0': [1,\n",
      "                                                                {'fare = 21.075': [{'fare = 20.525': [{'fare = 20.2125': [{'embark_town = Queenstown': [{'fare = 6.75': [0,\n",
      "                                                                                                                                                                         {'parch = 2': [0,\n",
      "                                                                                                                                                                                        1]}]},\n",
      "                                                                                                                                                        {'age = 27.0': [1,\n",
      "                                                                                                                                                                        {'fare = 7.2292': [1,\n",
      "                                                                                                                                                                                           0]}]}]},\n",
      "                                                                                                                          1]},\n",
      "                                                                                                      0]},\n",
      "                                                                                   1]}]},\n",
      "                                                 {'fare = 31.275': [0,\n",
      "                                                                    {'fare = 31.3875': [{'age = 5.0': [1,\n",
      "                                                                                                       {'who = woman': [1,\n",
      "                                                                                                                        0]}]},\n",
      "                                                                                        0]}]}]},\n",
      "                               {'fare = 28.7125': [{'fare = 27.75': [{'age = 21.0': [1,\n",
      "                                                                                     {'sibsp = 1': [{'fare = 21.0': [0,\n",
      "                                                                                                                     {'age = 42.0': [{'parch = 1': [{'fare = 26.0': [0,\n",
      "                                                                                                                                                                     1]},\n",
      "                                                                                                                                                    1]},\n",
      "                                                                                                                                     0]}]},\n",
      "                                                                                                    {'fare = 13.0': [{'age = 50.0': [{'age = 24.0': [0,\n",
      "                                                                                                                                                     1]},\n",
      "                                                                                                                                     0]},\n",
      "                                                                                                                     1]}]}]},\n",
      "                                                                     0]},\n",
      "                                                   {'fare = 146.5208': [1,\n",
      "                                                                        {'fare = 151.55': [{'alone = True': [1,\n",
      "                                                                                                             {'age = 0.92': [1,\n",
      "                                                                                                                             0]}]},\n",
      "                                                                                           1]}]}]}]}]}\n",
      "0.7808988764044944\n"
     ]
    }
   ],
   "source": [
    "train, test = train_test_split(df, test_size=0.2)\n",
    "tree = decision_tree_classifier(train, max_depth=10)\n",
    "accuracy = calculate_accuracy(test, tree)\n",
    "\n",
    "pprint(tree)\n",
    "print(accuracy)"
   ]
  },
  {
   "cell_type": "code",
   "execution_count": null,
   "metadata": {},
   "outputs": [],
   "source": []
  }
 ],
 "metadata": {
  "kernelspec": {
   "display_name": "Python 3",
   "language": "python",
   "name": "python3"
  },
  "language_info": {
   "codemirror_mode": {
    "name": "ipython",
    "version": 3
   },
   "file_extension": ".py",
   "mimetype": "text/x-python",
   "name": "python",
   "nbconvert_exporter": "python",
   "pygments_lexer": "ipython3",
   "version": "3.12.1"
  }
 },
 "nbformat": 4,
 "nbformat_minor": 2
}
